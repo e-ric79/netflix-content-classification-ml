{
  "nbformat": 4,
  "nbformat_minor": 0,
  "metadata": {
    "colab": {
      "provenance": []
    },
    "kernelspec": {
      "name": "python3",
      "display_name": "Python 3"
    },
    "language_info": {
      "name": "python"
    }
  },
  "cells": [
    {
      "cell_type": "code",
      "execution_count": null,
      "metadata": {
        "id": "Dr3A4my3vuma"
      },
      "outputs": [],
      "source": [
        "from google.colab import files\n",
        "uploads=files.upload()"
      ]
    },
    {
      "cell_type": "code",
      "source": [
        "import pandas as pd\n",
        "import numpy as np\n",
        "df=pd.read_csv('netflix_titles.csv')"
      ],
      "metadata": {
        "id": "xVIkO_PpwpyC"
      },
      "execution_count": 2,
      "outputs": []
    },
    {
      "cell_type": "code",
      "source": [
        "df.head()\n",
        "print(f\"shape: {df.shape}\")\n",
        "print(\"\\nContent type Distribution\")\n",
        "print(df['type'].value_counts())"
      ],
      "metadata": {
        "id": "ThsU1xQjw5fw"
      },
      "execution_count": null,
      "outputs": []
    },
    {
      "cell_type": "code",
      "source": [
        "#clean data\n",
        "df_ml=df.copy()\n",
        "# Fill missing values (from your EDA)\n",
        "df_ml['director'] = df_ml['director'].fillna('Unknown')\n",
        "df_ml['cast'] = df_ml['cast'].fillna('Unknown')\n",
        "df_ml['country'] = df_ml['country'].fillna('Unknown')\n",
        "df_ml['rating'] = df_ml['rating'].fillna('Unknown')\n",
        "df_ml['duration'] = df_ml['duration'].fillna('0')\n",
        "#Convert date_added to datetime\n",
        "df_ml['date_added']=pd.to_datetime(df_ml['date_added'].str.strip(),errors=\"coerce\")\n",
        "df_ml['year_added']=df_ml['date_added'].dt.year\n",
        "#extracting duration as numeric:\n",
        "#movies \"90min\"=90\n",
        "#tv shows \"2 seasons\" =2\n",
        "\n",
        "#creating features\n",
        "features=pd.DataFrame()\n",
        "features['release_year'] = df_ml['release_year']\n",
        "features['year_added'] = df_ml['year_added'].fillna(df_ml['year_added'].median())\n",
        "\n",
        "#count features\n",
        "features['num_genres'] = df_ml['listed_in'].str.count(',') + 1\n",
        "features['num_cast'] = df_ml['cast'].str.count(',') + 1\n",
        "\n",
        "#target variable\n",
        "target=(df_ml['type']=='Movie').astype(int) #movie=1 tv show=0\n",
        "#check\n",
        "print(\"Features Created:\")\n",
        "print(features.head())\n",
        "print(f\"\\nTarget (1=Movie, 0=Tv Show):\")\n",
        "print(target.value_counts())\n",
        "print(f\"\\nMissing values: {features.isnull().sum().sum()}\")"
      ],
      "metadata": {
        "id": "MNdyKDj3WfsI"
      },
      "execution_count": null,
      "outputs": []
    },
    {
      "cell_type": "code",
      "source": [
        "#split the data\n",
        "from sklearn.model_selection import train_test_split\n",
        "X_train,X_test,y_train,y_test=train_test_split(features,target,test_size=0.2,random_state=42)\n",
        "print(f\"Training: {X_train.shape[0]} samples\")\n",
        "print(f\"Testing: {X_test.shape[0]} samples\")\n",
        "#logisting regression\n",
        "from sklearn.linear_model import LogisticRegression\n",
        "from sklearn.metrics import accuracy_score\n",
        "lr=LogisticRegression(random_state=42,max_iter=1000)\n",
        "lr.fit(X_train,y_train)\n",
        "y_pred_lr=lr.predict(X_test)\n",
        "acc_lr=accuracy_score(y_test,y_pred_lr)\n",
        "print(f\"Logistic Regression accuracy: {acc_lr:.2%}\")\n"
      ],
      "metadata": {
        "id": "SdZbd2Lj-AWb"
      },
      "execution_count": null,
      "outputs": []
    },
    {
      "cell_type": "code",
      "source": [
        "#random forest\n",
        "from sklearn.ensemble import RandomForestClassifier\n",
        "from sklearn.metrics import classification_report\n",
        "rf=RandomForestClassifier(n_estimators=100,random_state=42)\n",
        "rf.fit(X_train,y_train)\n",
        "y_pred_rf=rf.predict(X_test)\n",
        "acc_rf=accuracy_score(y_test,y_pred_rf)\n",
        "print(f\"Random Forest accuracy: {acc_rf:.2%}\")\n",
        "print(\"\\nRandom Forest Classification Report:\")\n",
        "print(classification_report(y_test,y_pred_rf,target_names=['Tv Show','Movie']))"
      ],
      "metadata": {
        "id": "2k01HdKvBxf0"
      },
      "execution_count": null,
      "outputs": []
    },
    {
      "cell_type": "code",
      "source": [
        "# What's driving the predictions?\n",
        "feature_importance = pd.DataFrame({\n",
        "    'Feature': features.columns,\n",
        "    'Importance': rf.feature_importances_\n",
        "}).sort_values('Importance', ascending=False)\n",
        "\n",
        "print(\"Feature Importance (Random Forest):\")\n",
        "print(feature_importance)\n",
        "\n",
        "# Check if one feature dominates\n",
        "print(\"\\nTop feature alone accuracy:\")\n",
        "top_feature = feature_importance.iloc[0]['Feature']\n",
        "print(f\"Top feature: {top_feature}\")\n",
        "\n",
        "# Visualize\n",
        "import matplotlib.pyplot as plt\n",
        "feature_importance.plot(x='Feature', y='Importance', kind='barh', figsize=(10, 6))\n",
        "plt.title('Feature Importance for Movie vs TV Show')\n",
        "plt.xlabel('Importance')\n",
        "plt.tight_layout()\n",
        "plt.show()"
      ],
      "metadata": {
        "id": "qU6aV9ibEBZX"
      },
      "execution_count": null,
      "outputs": []
    },
    {
      "cell_type": "markdown",
      "source": [
        "## Netflix Content Type Prediction\n",
        "\n",
        "### Problem\n",
        "Predict whether Netflix content is a Movie or TV Show based on metadata\n",
        "\n",
        "### Data Leakage Lessons Learned\n",
        "1. **Duration leak:** Movies=minutes, TV=seasons (100% accuracy = cheating)\n",
        "2. **Director leak:** TV shows often don't list directors (95% accuracy = metadata artifact)\n",
        "\n",
        "### Fair Model Results\n",
        "Using only content characteristics:\n",
        "- Release year\n",
        "- Year added to Netflix  \n",
        "- Number of genres\n",
        "- Cast size\n",
        "\n",
        "**Random Forest: 71.91% accuracy** ✓\n",
        "**Logistic Regression: 69.01% accuracy**\n",
        "\n",
        "### Insights\n",
        "- Modest accuracy shows Movies and TV Shows have similar patterns\n",
        "- Director presence was best predictor (but unfair)\n",
        "- Content metadata alone provides limited distinction\n",
        "- Baseline (always predict Movie): 69.6%\n",
        "\n",
        "### Feature Importance (Fair Model)\n",
        "1. num_cast (cast size varies between types)\n",
        "2. release_year (content age patterns)\n",
        "3. num_genres (genre diversity)\n",
        "4. year_added (Netflix acquisition timing)"
      ],
      "metadata": {
        "id": "zG1hJ6iIG1ZY"
      }
    },
    {
      "cell_type": "markdown",
      "source": [
        "## Feature Selection Notes\n",
        "\n",
        "### Avoided Data Leakage\n",
        "- **Duration removed:** Movies measured in minutes, TV shows in seasons (would give 100% accuracy)\n",
        "- **Director presence removed:** TV shows systematically lack director metadata (would give 95% accuracy)\n",
        "\n",
        "These features would create artificially high accuracy by exploiting data formatting rather than content patterns.\n",
        "\n",
        "### Final Features (Fair Prediction)\n",
        "Only content-based characteristics used:\n",
        "- Release year, Year added, Number of genres, Cast size"
      ],
      "metadata": {
        "id": "oayJ4o0PG_Dl"
      }
    }
  ]
}